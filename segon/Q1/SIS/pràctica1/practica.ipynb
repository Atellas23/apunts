{
 "cells": [
  {
   "cell_type": "code",
   "execution_count": 1,
   "metadata": {
    "scrolled": true
   },
   "outputs": [],
   "source": [
    "import numpy as np\n",
    "import matplotlib.pyplot as plt\n",
    "from scipy.signal import convolve\n",
    "import pandas as pd"
   ]
  },
  {
   "cell_type": "code",
   "execution_count": 2,
   "metadata": {},
   "outputs": [],
   "source": [
    "def myconvolve(x, h):\n",
    "    N = x.size\n",
    "    M = h.size\n",
    "    P = M - 1 #Modify this line\n",
    "    x_padded = np.concatenate((np.zeros(P), x, np.zeros(P)))\n",
    "    L = M + N - 1\n",
    "    y = np.zeros(L)\n",
    "    h_rev = h[::-1]\n",
    "    for n in range(L):\n",
    "        y[n] = np.sum(x_padded[n:n+M]*h_rev)\n",
    "    return y"
   ]
  },
  {
   "cell_type": "code",
   "execution_count": 4,
   "metadata": {},
   "outputs": [],
   "source": [
    "def plot3(i, nx, x, nh, h, ny, y):\n",
    "    plt.figure(i)\n",
    "    ax3 = plt.subplot(3,1,3)\n",
    "    plt.stem(ny, y)\n",
    "    plt.subplot(3,1,1, sharex=ax3)\n",
    "    plt.stem(nx, x)\n",
    "    plt.subplot(3,1,2, sharex=ax3)\n",
    "    plt.stem(nh, h)"
   ]
  }
 ],
 "metadata": {
  "kernelspec": {
   "display_name": "Python 3",
   "language": "python",
   "name": "python3"
  },
  "language_info": {
   "codemirror_mode": {
    "name": "ipython",
    "version": 3
   },
   "file_extension": ".py",
   "mimetype": "text/x-python",
   "name": "python",
   "nbconvert_exporter": "python",
   "pygments_lexer": "ipython3",
   "version": "3.7.4"
  }
 },
 "nbformat": 4,
 "nbformat_minor": 2
}
