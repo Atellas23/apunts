{
 "cells": [
  {
   "cell_type": "code",
   "execution_count": null,
   "metadata": {},
   "outputs": [],
   "source": [
    "%matplotlib inline\n",
    "import os\n",
    "import matplotlib.pyplot as plt\n",
    "from collections import Counter\n",
    "from math import log2, log, sqrt, inf\n",
    "from random import choice, choices\n",
    "import numpy as np"
   ]
  },
  {
   "cell_type": "markdown",
   "metadata": {},
   "source": [
    "Introducció de diferents textos. S'ha d'anar primer al directori que els conté."
   ]
  },
  {
   "cell_type": "code",
   "execution_count": null,
   "metadata": {},
   "outputs": [],
   "source": [
    "os.chdir(\".\\\\textos\");\n",
    "txt_cat = open(\"cat.txt\",\"r\",encoding=\"utf-8\").read();\n",
    "txt_cas = open(\"cas.txt\",\"r\",encoding=\"utf-8\").read();\n",
    "txt_ale = open(\"ale.txt\",\"r\",encoding=\"utf-8\").read();\n",
    "txt_ang = open(\"ang.txt\",\"r\",encoding=\"utf-8\").read();\n",
    "txt_fra = open(\"fra.txt\",\"r\",encoding=\"utf-8\").read();\n",
    "txt_ita = open(\"ita.txt\",\"r\",encoding=\"utf-8\").read();\n",
    "txt = [txt_cat,txt_cas,txt_fra,txt_ang,txt_ale,txt_ita]; # Vector\n",
    "txt_quijote = open(\"quijote-1.txt\",\"r\",encoding=\"utf-8\").read();\n",
    "txt_sj=\"Setze jutges d'un jutjat mengen fetge d'un penjat.\"\n",
    "txt_hr=\"All human beings are born free and equal in dignity and rights. They are endowed with reason and conscience and should act towards one another in a spirit of brotherhood.\"\n",
    "txt_ae=\"Hay dos cosas que son infinitas: el universo y la estupidez humana; de la primera no estoy muy seguro.\""
   ]
  },
  {
   "cell_type": "markdown",
   "metadata": {},
   "source": [
    "Per exemple, el text en català és la novel·la \"Paulina Buxareu\" de Josep Maria de Sagarra:"
   ]
  },
  {
   "cell_type": "code",
   "execution_count": null,
   "metadata": {},
   "outputs": [],
   "source": [
    "txt_cat[:500]"
   ]
  },
  {
   "cell_type": "markdown",
   "metadata": {},
   "source": [
    "Separació del text en paraules."
   ]
  },
  {
   "cell_type": "code",
   "execution_count": null,
   "metadata": {},
   "outputs": [],
   "source": [
    "txt_cat.split()[:20]"
   ]
  },
  {
   "cell_type": "markdown",
   "metadata": {},
   "source": [
    "Mida (nombre total de lletres comptant espais), nombre de paraules i longitud mitjana de les paraules en els diferents textos."
   ]
  },
  {
   "cell_type": "code",
   "execution_count": null,
   "metadata": {},
   "outputs": [],
   "source": [
    "[(len(x),len(x.split()),round(len(x.replace(' ',''))/len(x.split()),5)) for x in txt]"
   ]
  },
  {
   "cell_type": "markdown",
   "metadata": {},
   "source": [
    "Funcions que calculen la probabilitat de la variable $\\boldsymbol X_n$ i de la variable condicionada $Z_s|Y_r=y$. "
   ]
  },
  {
   "cell_type": "code",
   "execution_count": null,
   "metadata": {},
   "outputs": [],
   "source": [
    "def probX(txt,par):\n",
    "    t = txt+txt[:len(par)-1]; #s'afegeix al final les lletres necessàries per poder calcular X_n\n",
    "    return t.count(par)/len(txt)\n",
    "\n",
    "def cond_probZY(txt,y,z):\n",
    "    w = y+z; # es vol saber quantes vegades z apareix a continuació de y; per això s'ha de buscar la paraula y+z\n",
    "    t = txt+txt[:len(w)-1];\n",
    "    ny = t.count(y); \n",
    "    if ny is 0:\n",
    "        return 0; # si Pr(Y=y)=0 la probabilitat condicionada es defineix com a zero\n",
    "    else:\n",
    "        return t.count(w)/ny"
   ]
  },
  {
   "cell_type": "code",
   "execution_count": null,
   "metadata": {},
   "outputs": [],
   "source": [
    "probX(txt_cas,\"a\"), probX(txt_cas,\"quijote\"), probX(txt_cas,\"r\"), cond_probZY(txt_cas,\" \",\"r\")"
   ]
  },
  {
   "cell_type": "code",
   "execution_count": null,
   "metadata": {},
   "outputs": [],
   "source": [
    "[probX(x,\"en\") for x in txt],[cond_probZY(x,\"en\",\"e\") for x in txt]"
   ]
  },
  {
   "cell_type": "markdown",
   "metadata": {},
   "source": [
    "Funcions que donen una llista que representa les distribucions de probabilitat de variables aleatòries $\\boldsymbol X_n$ i $Z_s|Y_r={\\tt y}$.\n",
    "\n",
    "El format de la sortida és una llista $[(x_1,n_1),...,(x_k,n_k)]$ que conté parells $(x_i,n_i)$ formats pels valors $x_i$ que pren la variable i el nombre de vegades $n_i$ que pren cada valor. La probabilitat del valor $x_i$ és $\\frac{n_i}{\\sum_{j=1}^k n_j}$."
   ]
  },
  {
   "cell_type": "code",
   "execution_count": null,
   "metadata": {},
   "outputs": [],
   "source": [
    "def varX(txt,n):\n",
    "    p = txt+txt[:n-1]; # s'afegeixen lletres al final per poder tenir totes les paraules de mida n que comencen a txt\n",
    "    p = [p[i:i+n] for i in range(len(txt))]; # llista amb totes les paraules de mida n en el text\n",
    "    p = dict(Counter(p)); # usant Counter es crea un diccionari que a cada valor li fa correspondre el nombre de vegades que apareix\n",
    "    p = [(x,p[x]) for x in p]; # es converteix el diccionari en una llista\n",
    "    p.sort(); # s'ordena pels valors (primera component dels parells)\n",
    "    return p\n",
    "def cond_varZY(txt,s,y):\n",
    "    n = s+len(y); p = txt+txt[:n-1];\n",
    "    p = [p[i:i+n] for i in range(len(txt))]; # paraules de mida n dins el text\n",
    "    p = [x for x in p if x[:len(y)] == y]; # se seleccionen només les que comencen per y\n",
    "    p = [x[-s:] for x in p]; # s'agafen les s últimes lletres\n",
    "    p = dict(Counter(p)); p = [(x,p[x]) for x in p]; p.sort();\n",
    "    return p\n",
    "varX(txt_cat,3)[:10], cond_varZY(txt_cat,3,\"pau\")"
   ]
  },
  {
   "cell_type": "markdown",
   "metadata": {},
   "source": [
    "Funció que compta el nombre de blocs de mida n dins del text, amb el conveni que, en acabar, el text torna a començar. "
   ]
  },
  {
   "cell_type": "code",
   "execution_count": null,
   "metadata": {},
   "outputs": [],
   "source": [
    "def blocs(txt,n):\n",
    "    p = txt+txt[:n-1];\n",
    "    p = dict(Counter([p[i:i+n] for i in range(len(txt))]));\n",
    "    p = [(p[x],x) for x in p]\n",
    "    p.sort()\n",
    "    return p\n",
    "[blocs(x,3)[-10:] for x in txt]"
   ]
  },
  {
   "cell_type": "markdown",
   "metadata": {},
   "source": [
    "Histogrames de les variables aleatòries $X$ corresponents a agafar una lletra aleatoriament. Per poder comparar-los bé es calculen sobre tots els textos amb el mateix alfabet. En aquest exemple es dibuixen els diagrames amb les lletres escrites en el mateix ordre."
   ]
  },
  {
   "cell_type": "code",
   "execution_count": null,
   "metadata": {},
   "outputs": [],
   "source": [
    "def histograma(txt):\n",
    "    alf = [x for x in \"abcdefghijklmnopqrstuvwxyz\"];\n",
    "    p = [100*txt.count(x)/len(txt) for x in alf]; # les probabilitats es donen en termes de percentatge\n",
    "    plt.bar(range(len(alf)),p,tick_label=alf)\n",
    "\n",
    "plt.figure(figsize=(20,30))\n",
    "plt.subplot(631)\n",
    "histograma(txt[0])\n",
    "plt.title('Català');\n",
    "plt.subplot(632)\n",
    "histograma(txt[1])\n",
    "plt.title('Castellà');\n",
    "plt.subplot(633)\n",
    "histograma(txt[2])\n",
    "plt.title('Francès');\n",
    "plt.subplot(634)\n",
    "histograma(txt[3])\n",
    "plt.title('Anglès');\n",
    "plt.subplot(635)\n",
    "histograma(txt[4])\n",
    "plt.title('Alemany');\n",
    "plt.subplot(636)\n",
    "histograma(txt[5])\n",
    "plt.title('Italià');"
   ]
  },
  {
   "cell_type": "markdown",
   "metadata": {},
   "source": [
    "El mateix amb les variables $Z_1|Y_1={\\tt y}$."
   ]
  },
  {
   "cell_type": "code",
   "execution_count": null,
   "metadata": {},
   "outputs": [],
   "source": [
    "def histograma(txt,y):\n",
    "    t = txt+txt[:1]; ny = txt.count(y);\n",
    "    alf = [x for x in \"abcdefghijklmnopqrstuvwxyz\"];\n",
    "    p = [100*txt.count(y+x)/ny for x in alf];\n",
    "    plt.bar(range(len(alf)),p,tick_label=alf)\n",
    "\n",
    "y = \"m\";\n",
    "plt.figure(figsize=(20,30))\n",
    "plt.subplot(631)\n",
    "histograma(txt[0],y)\n",
    "plt.title('Català');\n",
    "plt.subplot(632)\n",
    "histograma(txt[1],y)\n",
    "plt.title('Castellà');\n",
    "plt.subplot(633)\n",
    "histograma(txt[2],y)\n",
    "plt.title('Francès');\n",
    "plt.subplot(634)\n",
    "histograma(txt[3],y)\n",
    "plt.title('Anglès');\n",
    "plt.subplot(635)\n",
    "histograma(txt[4],y)\n",
    "plt.title('Alemany');\n",
    "plt.subplot(636)\n",
    "histograma(txt[5],y)\n",
    "plt.title('Italià');"
   ]
  },
  {
   "cell_type": "markdown",
   "metadata": {},
   "source": [
    "Ara es dibuixa l'histograma ordenant les lletres en ordre creixent de probabilitats."
   ]
  },
  {
   "cell_type": "code",
   "execution_count": null,
   "metadata": {},
   "outputs": [],
   "source": [
    "def histograma(txt):\n",
    "    alf = [x for x in \"abcdefghijklmnopqrstuvwxyz\"];\n",
    "    p = [[100*txt.count(x)/len(txt),x] for x in alf];\n",
    "    p.sort();\n",
    "    alf = [x[1] for x in p];\n",
    "    p = [x[0] for x in p];\n",
    "    plt.bar(range(len(alf)),p,tick_label=alf)\n",
    "\n",
    "plt.figure(figsize=(20,30))\n",
    "plt.subplot(631)\n",
    "histograma(txt[0])\n",
    "plt.title('Català');\n",
    "plt.subplot(632)\n",
    "histograma(txt[1])\n",
    "plt.title('Castellà');\n",
    "plt.subplot(633)\n",
    "histograma(txt[2])\n",
    "plt.title('Francès');\n",
    "plt.subplot(634)\n",
    "histograma(txt[3])\n",
    "plt.title('Anglès');\n",
    "plt.subplot(635)\n",
    "histograma(txt[4])\n",
    "plt.title('Alemany');\n",
    "plt.subplot(636)\n",
    "histograma(txt[5])\n",
    "plt.title('Italià');"
   ]
  },
  {
   "cell_type": "markdown",
   "metadata": {},
   "source": [
    "Idem amb les condicionades."
   ]
  },
  {
   "cell_type": "code",
   "execution_count": null,
   "metadata": {},
   "outputs": [],
   "source": [
    "def histograma(txt,y):\n",
    "    t = txt+txt[:1]; ny = txt.count(y);\n",
    "    alf = [x for x in \"abcdefghijklmnopqrstuvwxyz\"];\n",
    "    p = [[100*txt.count(y+x)/ny,x] for x in alf];\n",
    "    p.sort();\n",
    "    alf = [x[1] for x in p];\n",
    "    p = [x[0] for x in p];\n",
    "    plt.bar(range(len(alf)),p,tick_label=alf)\n",
    "\n",
    "y = \"m\";\n",
    "plt.figure(figsize=(20,30))\n",
    "plt.subplot(631)\n",
    "histograma(txt[0],y)\n",
    "plt.title('Català');\n",
    "plt.subplot(632)\n",
    "histograma(txt[1],y)\n",
    "plt.title('Castellà');\n",
    "plt.subplot(633)\n",
    "histograma(txt[2],y)\n",
    "plt.title('Francès');\n",
    "plt.subplot(634)\n",
    "histograma(txt[3],y)\n",
    "plt.title('Anglès');\n",
    "plt.subplot(635)\n",
    "histograma(txt[4],y)\n",
    "plt.title('Alemany');\n",
    "plt.subplot(636)\n",
    "histograma(txt[5],y)\n",
    "plt.title('Italià');"
   ]
  },
  {
   "cell_type": "markdown",
   "metadata": {},
   "source": [
    "Comparació de distribucions de probabilitat. Es fan servir dues funcions de comparació de distribucions de probabilitat\n",
    "$(p_1,...p_n)$ i $(q_1,...,q_n)$: la divergència de Kullback-Leibler (observeu que no és simètrica): $$\\sum p_i\\log\\frac{p_i}{q_i}$$ i la distància de Hellinger (simètrica): $$\\sum(\\sqrt{p_i}-\\sqrt{q_i})^2.$$\n",
    "\n",
    "La primera funció compara la distribució de $X$ amb la uniforme i la segona compara les distribucions de $X$ corresponents a dos textos diferents. En aquest cas se'n fan dues versions: en la primera es consideren les distribucions de probabilitat ordenades en funció dels valors de la variable (es comparen probabilitats de cada lletra); en la segona s'ordenen les distribucions per ordre creixent de probabilitats (això potser representa millor la estructura del procés que es vol estudiar, tot i que la interpretació és discutible); a més, en aquest segon cas s'eliminen els valors de probabilitat zero per a calcular la divergència."
   ]
  },
  {
   "cell_type": "code",
   "execution_count": null,
   "metadata": {},
   "outputs": [],
   "source": [
    "def divKL(p,q):\n",
    "    div = 0;\n",
    "    for i in range(len(p)):\n",
    "        if p[i] == 0:\n",
    "            div += 0;\n",
    "        elif q[i] == 0:\n",
    "            div += inf;\n",
    "        else:\n",
    "            div += p[i]*log2(p[i]/q[i]);\n",
    "    return div\n",
    "\n",
    "def divKL_ord(pp,qq):\n",
    "    p = pp; q = qq; p.sort(); q.sort();\n",
    "    nz = max(p.count(0),q.count(0))\n",
    "    p = p[-len(p)+nz:]; q = q[-len(q)+nz:];\n",
    "    p = [x/sum(p) for x in p]; q = [x/sum(q) for x in q];\n",
    "    div = sum(p[i]*log2(p[i]/q[i]) for i in range(len(p)));\n",
    "    return div\n",
    "\n",
    "def distH(p,q):\n",
    "    dist = sum([(sqrt(p[i])-sqrt(q[i]))**2 for i in range(len(p))]);\n",
    "    return dist\n",
    "\n",
    "def distH_ord(pp,qq):\n",
    "    p = pp; q = qq; p.sort(); q.sort();\n",
    "    dist = sum([(sqrt(p[i])-sqrt(q[i]))**2 for i in range(len(p))]);\n",
    "    return dist\n",
    "\n",
    "def compara_unif(txt):\n",
    "    alf = [x for x in \"abcdefghijklmnopqrstuvwxyz\"];\n",
    "    p = [txt.count(x)/len(txt) for x in alf];\n",
    "    div = log2(len(p)) + sum([x*log2(x) for x in p if x>0]);\n",
    "    div = sum([(sqrt(x)-sqrt(1/len(p)))**2 for x in p]);\n",
    "    return round(div,5)\n",
    "def compara(txt1,txt2,fun):\n",
    "    alf = [x for x in \"abcdefghijklmnopqrstuvwxyz\"];\n",
    "    p1 = [txt1.count(x)/len(txt1) for x in alf];\n",
    "    p2 = [txt2.count(x)/len(txt2) for x in alf];\n",
    "    div = fun(p1,p2);\n",
    "    return round(100*div,5)"
   ]
  },
  {
   "cell_type": "code",
   "execution_count": null,
   "metadata": {},
   "outputs": [],
   "source": [
    "[compara_unif(x) for x in txt]"
   ]
  },
  {
   "cell_type": "code",
   "execution_count": null,
   "metadata": {},
   "outputs": [],
   "source": [
    "np.array([[compara(x,y,divKL) for y in txt] for x in txt]),np.array([[compara(x,y,divKL_ord) for y in txt] for x in txt])"
   ]
  },
  {
   "cell_type": "code",
   "execution_count": null,
   "metadata": {},
   "outputs": [],
   "source": [
    "np.array([[compara(x,y,distH) for y in txt] for x in txt]),np.array([[compara(x,y,distH_ord) for y in txt] for x in txt])"
   ]
  },
  {
   "cell_type": "markdown",
   "metadata": {},
   "source": [
    "Calcul de la longitud mitjana de les paraules en un text. Es calcula també la longitud mitjana de les paraules sense tenir en compte les seves freqüències (és a dir, suposant que tenen distribució uniforme en el text)."
   ]
  },
  {
   "cell_type": "code",
   "execution_count": null,
   "metadata": {},
   "outputs": [],
   "source": [
    "def long_mitjana(txt):\n",
    "    p = dict(Counter(txt.split())); p = [[p[x],x] for x in p]; p.sort();\n",
    "    l = [len(x[1]) for x in p];\n",
    "    p = [x[0] for x in p]; tot = sum(p); p = [x/tot for x in p];\n",
    "    lm = sum(p[i]*l[i] for i in range(len(p)));\n",
    "    return round(lm,5),round(sum(l)/len(l),5)\n",
    "[long_mitjana(x) for x in txt]"
   ]
  },
  {
   "cell_type": "markdown",
   "metadata": {},
   "source": [
    "Comparació de les distribucions de paraules amb la distribució Zeta de paràmetre s: la distribució sobre un conjunt de n paraules en què la paraula k-èsima (ordenada en ordre decreixent de probabilitats) té probabilitat: $$p(x_k)=\\frac{\\frac1{k^s}}{\\sum_{i=1}^n\\frac1{i^s}}.$$\n",
    "La funció admet com a paràmetre el nombre n de paraules (les més probables) que es consideren.\n",
    "\n",
    "Es pot canviar la funció distància que es fa servir per comparar distribucions."
   ]
  },
  {
   "cell_type": "code",
   "execution_count": null,
   "metadata": {},
   "outputs": [],
   "source": [
    "def comp_Zeta(txt,n,s):\n",
    "    p = dict(Counter(txt.split())); p = [[p[x],x] for x in p]; p.sort(); p = p[-n:];\n",
    "    p = [x[0] for x in p]; tot = sum(p); p = [x/tot for x in p];\n",
    "    tot = sum(1/(k+1)**s for k in range(n));\n",
    "    q = [(1/(k+1)**s)/tot for k in reversed(range(n))];\n",
    "    div = distH(p,q);\n",
    "    return round(100*div,5)\n",
    "\n",
    "def minimitza_parametre_Zeta(txt,n):\n",
    "    s0 = 0; s3 = 1; c0 = comp_Zeta(txt,n,s0); c3 = comp_Zeta(txt,n,s3);\n",
    "    for count in range(40):\n",
    "        s1 = (2*s0+s3)/3; s2 = (s0+2*s3)/3;\n",
    "        c1 = comp_Zeta(txt,n,s1); c2 = comp_Zeta(txt,n,s2);\n",
    "        if c1 < c2:\n",
    "            s3 = s2; c3 = c2;\n",
    "        else:\n",
    "            s0 = s1; c0 = c1;\n",
    "    return round(s0,5)\n",
    "\n",
    "[minimitza_parametre_Zeta(x,100) for x in txt]"
   ]
  },
  {
   "cell_type": "markdown",
   "metadata": {},
   "source": [
    "Freqüència de vocals i consonants. Es dóna el percentatge de vocals."
   ]
  },
  {
   "cell_type": "code",
   "execution_count": null,
   "metadata": {},
   "outputs": [],
   "source": [
    "def vocal_consonant(txt):\n",
    "    txt = txt.replace(\"a\",\"*\"); txt = txt.replace(\"e\",\"*\"); txt = txt.replace(\"i\",\"*\"); txt = txt.replace(\"o\",\"*\");  txt = txt.replace(\"u\",\"*\");\n",
    "    txt = txt.replace(\"b\",\"c\"); txt = txt.replace(\"c\",\"c\"); txt = txt.replace(\"d\",\"c\"); txt = txt.replace(\"f\",\"c\");  txt = txt.replace(\"g\",\"c\");\n",
    "    txt = txt.replace(\"h\",\"c\"); txt = txt.replace(\"j\",\"c\"); txt = txt.replace(\"k\",\"c\"); txt = txt.replace(\"l\",\"c\");  txt = txt.replace(\"m\",\"c\");\n",
    "    txt = txt.replace(\"n\",\"c\"); txt = txt.replace(\"p\",\"c\"); txt = txt.replace(\"q\",\"c\"); txt = txt.replace(\"r\",\"c\");  txt = txt.replace(\"s\",\"c\");\n",
    "    txt = txt.replace(\"t\",\"c\"); txt = txt.replace(\"v\",\"c\"); txt = txt.replace(\"w\",\"c\"); txt = txt.replace(\"x\",\"c\");  txt = txt.replace(\"y\",\"c\");\n",
    "    txt = txt.replace(\"z\",\"c\"); txt = txt.replace(\"*\",\"v\");\n",
    "    return(txt)\n",
    "vc=[blocs(vocal_consonant(x).replace(\" \",\"\"),1) for x in txt];[round(x[0][0]/(x[0][0]+x[1][0]),5) for x in vc]"
   ]
  },
  {
   "cell_type": "markdown",
   "metadata": {},
   "source": [
    "Taules de probabilitats condicionades en textos que només consideren vocals, consonants i espais."
   ]
  },
  {
   "cell_type": "code",
   "execution_count": null,
   "metadata": {},
   "outputs": [],
   "source": [
    "[[[round(100*cond_probZY(vocal_consonant(t),x,y),5) for y in ['v','c',' ']] for x in ['v','c',' ']] for t in txt]"
   ]
  },
  {
   "cell_type": "markdown",
   "metadata": {},
   "source": [
    "Estudi del nombre màxim de vocals i consonants seguides en cada idioma"
   ]
  },
  {
   "cell_type": "code",
   "execution_count": null,
   "metadata": {},
   "outputs": [],
   "source": [
    "def max_voc_cons(txt):\n",
    "    t = vocal_consonant(txt);\n",
    "    nv = 1;\n",
    "    while t.count(nv*\"v\") > 0:\n",
    "        nv = nv+1\n",
    "    nv = nv-1;\n",
    "    posv = t.find(nv*\"v\"); txtv = txt[posv-2:posv+nv+2];\n",
    "    nc = 1;\n",
    "    while t.count(nc*\"c\") > 0:\n",
    "        nc = nc+1\n",
    "    nc = nc-1;\n",
    "    posc = t.find(nc*\"c\"); txtc = txt[posc-2:posc+nc+2];\n",
    "    return nv,txtv,nc,txtc\n",
    "[max_voc_cons(x) for x in txt]"
   ]
  },
  {
   "cell_type": "markdown",
   "metadata": {},
   "source": [
    "Funció per calcular el valor mínim de r tal que la variable $Z_1$ depèn de la variable $Y_r$"
   ]
  },
  {
   "cell_type": "code",
   "execution_count": null,
   "metadata": {},
   "outputs": [],
   "source": [
    "def minr(txt):\n",
    "    n = len(set(txt)); r=1;\n",
    "    t = txt+txt[:r]\n",
    "    t = [t[i:i+r+1] for i in range(len(txt))];\n",
    "    m = len(set(t));\n",
    "    while n<m:\n",
    "        r+=1;\n",
    "        n = m;\n",
    "        t = txt+txt[:r]\n",
    "        t = [t[i:i+r+1] for i in range(len(txt))];\n",
    "        m = len(set(t));\n",
    "    return r, blocs(txt,r-1)[-1]\n",
    "minr(txt_quijote),minr(txt_sj),minr(txt_hr),minr(txt_ae)"
   ]
  },
  {
   "cell_type": "code",
   "execution_count": null,
   "metadata": {},
   "outputs": [],
   "source": [
    "[minr(x[:10000]) for x in txt]"
   ]
  },
  {
   "cell_type": "markdown",
   "metadata": {},
   "source": [
    "Funció que crea un text de mida N a partir de la cadena de Markov d'ordre n determinada pel text"
   ]
  },
  {
   "cell_type": "code",
   "execution_count": null,
   "metadata": {},
   "outputs": [],
   "source": [
    "def crea_text(txt,n,N):\n",
    "    if n == 1:\n",
    "        t = ''\n",
    "        for i in range(N):\n",
    "            t += txt[choice(range(len(txt)))];\n",
    "        return t\n",
    "    p = blocs(txt,n);\n",
    "    t = choices([x[1] for x in p],[x[0] for x in p])[0];\n",
    "    while len(t) < N:\n",
    "        f = t[-n+1:];\n",
    "        pp = [x for x in p if x[1][:n-1]==f]; #print(pp)\n",
    "        t = t + choices([x[1] for x in pp],[x[0] for x in pp])[0][-1];\n",
    "    return t\n",
    "[(minr(txt_sj)[0],k+1,crea_text(txt_sj,k+1,50)) for k in range(10)]"
   ]
  },
  {
   "cell_type": "code",
   "execution_count": null,
   "metadata": {},
   "outputs": [],
   "source": [
    "[(minr(txt_hr)[0],k+1,crea_text(txt_hr,k+1,170)) for k in range(10)]"
   ]
  },
  {
   "cell_type": "code",
   "execution_count": null,
   "metadata": {},
   "outputs": [],
   "source": [
    "[(minr(txt_ae)[0],k+1,crea_text(txt_ae,k+1,102)) for k in range(10)]"
   ]
  },
  {
   "cell_type": "markdown",
   "metadata": {},
   "source": [
    "Funcions per calcular entropies."
   ]
  },
  {
   "cell_type": "code",
   "execution_count": null,
   "metadata": {},
   "outputs": [],
   "source": [
    "def entropia(pp):\n",
    "    p = pp; p = [x for x in p if x>0];\n",
    "    w = sum(x for x in p);\n",
    "    H = sum(x/w*log2(w/x) for x in p);\n",
    "    return H\n",
    "\n",
    "def entr(txt,n):\n",
    "    p = varX(txt,n); p = [x[1] for x in p];\n",
    "    H = entropia(p);\n",
    "    return round(H,6)\n",
    "    \n",
    "def cond_entr_word(txt,s,par):\n",
    "    p = cond_varZY(txt,s,par); p = [x[1] for x in p];\n",
    "    H = entropia(p);\n",
    "    return round(H,6)\n",
    "\n",
    "def cond_entr(txt,r,s):\n",
    "    return entr(txt,r+s)-entr(txt,r)"
   ]
  },
  {
   "cell_type": "code",
   "execution_count": null,
   "metadata": {},
   "outputs": [],
   "source": [
    "[entr(txt_cat,i)/i for i in range(1,10)]"
   ]
  },
  {
   "cell_type": "code",
   "execution_count": null,
   "metadata": {},
   "outputs": [],
   "source": [
    "[entr(x,1) for x in txt]"
   ]
  },
  {
   "cell_type": "code",
   "execution_count": null,
   "metadata": {},
   "outputs": [],
   "source": [
    "[cond_entr_word(txt_cat,r,\"q\")/r for r in range(1,10)]"
   ]
  },
  {
   "cell_type": "code",
   "execution_count": null,
   "metadata": {},
   "outputs": [],
   "source": [
    "[cond_entr(txt_cat,r,1)/r for r in range(1,10)]"
   ]
  }
 ],
 "metadata": {
  "kernelspec": {
   "display_name": "Python 3",
   "language": "python",
   "name": "python3"
  },
  "language_info": {
   "codemirror_mode": {
    "name": "ipython",
    "version": 3
   },
   "file_extension": ".py",
   "mimetype": "text/x-python",
   "name": "python",
   "nbconvert_exporter": "python",
   "pygments_lexer": "ipython3",
   "version": "3.7.3"
  }
 },
 "nbformat": 4,
 "nbformat_minor": 2
}
