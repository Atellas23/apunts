{
 "cells": [
  {
   "cell_type": "code",
   "execution_count": 2,
   "metadata": {},
   "outputs": [
    {
     "name": "stdout",
     "output_type": "stream",
     "text": [
      "[0.10281369 0.29289683 0.95766172]\n"
     ]
    }
   ],
   "source": [
    "# Exercise 0.4.3\n",
    "freq = [1, 1/10, 1/100]\n",
    "\n",
    "def age(attr: int, id: int):\n",
    "    if attr == 0:\n",
    "        return id*100\n",
    "    elif attr == 1:\n",
    "        return id*10\n",
    "    else:\n",
    "        return id\n",
    "\n",
    "import numpy as np\n",
    "res = np.zeros((10, 3))\n",
    "for row in range(10):\n",
    "    for attribute in range(3):\n",
    "        res[row, attribute] = 1/(1+freq[attribute]*age(attribute, row))\n",
    "result = np.mean(res.copy(), axis=0)\n",
    "print(result)"
   ]
  },
  {
   "cell_type": "code",
   "execution_count": null,
   "metadata": {},
   "outputs": [],
   "source": []
  }
 ],
 "metadata": {
  "interpreter": {
   "hash": "f5efb5ee2bd41ce2c241d48d5c0a075a44970e49d23c3018f9ce2e304a519eee"
  },
  "kernelspec": {
   "display_name": "Python 3.7.4 64-bit (system)",
   "name": "python3"
  },
  "language_info": {
   "codemirror_mode": {
    "name": "ipython",
    "version": 3
   },
   "file_extension": ".py",
   "mimetype": "text/x-python",
   "name": "python",
   "nbconvert_exporter": "python",
   "pygments_lexer": "ipython3",
   "version": "3.7.4"
  },
  "orig_nbformat": 4
 },
 "nbformat": 4,
 "nbformat_minor": 2
}
