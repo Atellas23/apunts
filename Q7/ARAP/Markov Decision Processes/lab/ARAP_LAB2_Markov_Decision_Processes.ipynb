{
  "nbformat": 4,
  "nbformat_minor": 0,
  "metadata": {
    "colab": {
      "name": "ARAP_LAB2_Markov_Decision_Processes.ipynb",
      "provenance": [],
      "collapsed_sections": [],
      "toc_visible": true
    },
    "interpreter": {
      "hash": "f5efb5ee2bd41ce2c241d48d5c0a075a44970e49d23c3018f9ce2e304a519eee"
    },
    "kernelspec": {
      "display_name": "Python 3.7.4 64-bit (system)",
      "name": "python3"
    },
    "language_info": {
      "codemirror_mode": {
        "name": "ipython",
        "version": 3
      },
      "file_extension": ".py",
      "mimetype": "text/x-python",
      "name": "python",
      "nbconvert_exporter": "python",
      "pygments_lexer": "ipython3",
      "version": "3.7.4"
    }
  },
  "cells": [
    {
      "cell_type": "markdown",
      "metadata": {
        "id": "-S5ayo0p9E8u"
      },
      "source": [
        "## Colab Notebook created for ARAP module at UPC ETSETB.\n",
        "\n",
        "Authors: Juan José Nieto, Josep Vidal, Margarita Cabrera-Bean"
      ]
    },
    {
      "cell_type": "markdown",
      "metadata": {
        "id": "kQESq6dqoo-N"
      },
      "source": [
        "# GRID WORLD\n",
        "[Open to access description of tasks](https://drive.google.com/file/d/1PUpvtq1mXGLIxYcksXuR4Nr7WmV0ILkJ/view)"
      ]
    },
    {
      "cell_type": "markdown",
      "metadata": {
        "id": "6nrr6nf3yDAz"
      },
      "source": [
        "## Complete the TODOs you'll find in the notebook:\n",
        "\n",
        "1.  Initialize the variable POLICY p(s'|a,s) (a).\n",
        "2.  Initialize the corresponding rewards in *next_position* function (a).\n",
        "3.  Compute the reward vector and the transition probability matrix (b).\n",
        "4.  Compute Bellman Equation (c)\n",
        "-------------------------------------------------\n",
        "5.  Compute update of the state value (IPE,d)\n",
        "6.  Program Policy Improvement Algorithm (PI,e)\n",
        "7.  Program Value Iteration Algorithm (VI,f)\n",
        "\n",
        "\n",
        "\n",
        "\n"
      ]
    },
    {
      "cell_type": "code",
      "metadata": {
        "id": "RfmWXOV5pVR1"
      },
      "source": [
        "import numpy as np\n",
        "import seaborn as sns\n",
        "import matplotlib.pyplot as plt"
      ],
      "execution_count": 1,
      "outputs": []
    },
    {
      "cell_type": "markdown",
      "metadata": {
        "id": "b2exR-yYJdc-"
      },
      "source": [
        "We first of all define the class for a grid, and initialize the policy as a random one, with equal probability for each action, that is, $\\pi(a\\vert s)=\\frac{1}{4}$ for all $a\\in\\mathcal A$, and for all $s\\in\\mathcal S$."
      ]
    },
    {
      "cell_type": "code",
      "metadata": {
        "id": "ahQSmXlQgFr-"
      },
      "source": [
        "class Grid():\n",
        "    def __init__(self):\n",
        "        self.N_ROWS = 5\n",
        "        self.N_COLUMNS = 5\n",
        "        self.N_STATES = self.N_ROWS * self.N_COLUMNS\n",
        "\n",
        "        self.GAMMA = 0.9\n",
        "        self.ZETA_MAX = 1e-3\n",
        "        self.ITER_MAX = 100\n",
        "        \n",
        "        self.ACTIONS = [(0, -1), (1, 0), (0, 1), (-1, 0)]\n",
        "        self.N_ACTIONS = 4\n",
        "        \n",
        "        # 1.TODO: Initialize with equal probability for each action in each state (a)\n",
        "        self.POLICY = np.ones((self.N_STATES, self.N_ACTIONS))/4\n",
        "\n",
        "        self.SPC_STATES = [(6, 10, 10), (16, 18, 5)] # (ini state, fin state, reward)\n",
        "\n",
        "        self.TrPrM = np.zeros((self.N_STATES, self.N_STATES))\n",
        "        self.V_FUNCTION = np.zeros(self.N_STATES)\n",
        "        self.REWARD = np.zeros(self.N_STATES)\n",
        "\n",
        "\n",
        "    ''' Convert state s from scalar to coordinates x,y '''\n",
        "    def get_XY(self, state):\n",
        "        state -= 1\n",
        "        return (state % self.N_ROWS, int(state / self.N_ROWS))\n",
        "\n",
        "    ''' Convert coordinates x,y to scalar state '''\n",
        "    def get_state(self, state):\n",
        "        return state[1]*self.N_COLUMNS + state[0] + 1\n",
        "\n",
        "\n",
        "    '''\n",
        "    Check if state is special\n",
        "\n",
        "    Params:\n",
        "        - int: state [1,...,25]\n",
        "    Returns:\n",
        "        - bool: is_special\n",
        "        - int: next_state\n",
        "        - int: reward\n",
        "    '''\n",
        "    def is_special(self, state):\n",
        "        for spc in self.SPC_STATES:\n",
        "            if spc[0] == state:\n",
        "                return True, spc[1], spc[2]\n",
        "        return False, None, None\n",
        "\n",
        "\n",
        "\n",
        "    '''\n",
        "    Computes next state and reward\n",
        "\n",
        "    Params:\n",
        "        - int: state [1,...,25]\n",
        "    Returns:\n",
        "        - int: next_state\n",
        "        - int: reward\n",
        "    '''\n",
        "    def next_position(self, state, action):\n",
        "        (x,y) = self.get_XY(state)\n",
        "        (ax, ay) = self.ACTIONS[action]\n",
        "\n",
        "        next_state = (x + ax, y + ay)\n",
        "\n",
        "        special = self.is_special(state)    # returns (is_special, next_state, reward)\n",
        "\n",
        "        # 2.TODO: Complete the TODOs with the corresponding rewards(b)\n",
        "        if special[0]:                                                  # special state\n",
        "            return special[1], special[2]\n",
        "\n",
        "        elif next_state[0] > -1 and next_state[0] < self.N_ROWS and \\\n",
        "            next_state[1] > -1 and next_state[1] < self.N_COLUMNS:      # agent within the limits of the grid\n",
        "\n",
        "            next_state = self.get_state(next_state)\n",
        "            return next_state, 0\n",
        "\n",
        "        else:                                                           # agent is trying to overpass the limits of the grid\n",
        "            return state, -1\n"
      ],
      "execution_count": 2,
      "outputs": []
    },
    {
      "cell_type": "markdown",
      "metadata": {
        "id": "EmCa9LE8tzG-"
      },
      "source": [
        "### Plot functions"
      ]
    },
    {
      "cell_type": "code",
      "metadata": {
        "id": "RokI1XGysmJx"
      },
      "source": [
        "'''Insert title, and axis labels to plots'''\n",
        "def insert_labels(labels, ax):\n",
        "    if 'title' in labels:\n",
        "        ax.set_title(labels['title'])\n",
        "    if 'xlabel' in labels:\n",
        "        ax.set_xlabel(labels['xlabel'])\n",
        "    if 'ylabel' in labels:\n",
        "\t    ax.set_ylabel(labels['ylabel'])\n",
        "\n",
        "\n",
        "'''Plot for showing value functions'''\n",
        "def plot_heatmap(data, **kwargs):\n",
        "    fig, ax = plt.subplots()\n",
        "    sns.heatmap(data, cmap='coolwarm')\n",
        "    insert_labels(kwargs, ax)\n",
        "\n",
        "'''Plot for showing how the difference of state-values decrease over time'''\n",
        "def plot_deltas(data, **kwargs):\n",
        "    fig, ax = plt.subplots()\n",
        "    plt.plot(data)\n",
        "    insert_labels(kwargs, ax)\n",
        "\n",
        "'''Policy plots. Indicates action taken in each state.'''\n",
        "def plot_arrow(data, actions, **kwargs):\n",
        "\n",
        "    fig, ax = plt.subplots()\n",
        "\n",
        "    U = np.array([[actions[y][0] for y in x] for x in data])\n",
        "    V = np.array([[actions[y][1] for y in x] for x in data])\n",
        "\n",
        "    X = np.arange(0, 5, 1)\n",
        "    Y = np.arange(0, 5, 1)\n",
        "\n",
        "    q = ax.quiver(X, Y, V, U*-1)\n",
        "    plt.imshow(data, cmap=plt.cm.Pastel1)\n",
        "    \n",
        "\n",
        "    insert_labels(kwargs, ax)\n",
        "    ax.axis('off')\n",
        "    plt.show()\n",
        "\n",
        "\n",
        "'''Group of N policy plots.'''\n",
        "def plot_arrows(data, actions):\n",
        "    # Only pick 3 first actions matrices and last one (optimal policy)\n",
        "    num_policies = len(data)\n",
        "\n",
        "    fdata = data[:min(3, num_policies)] + data[-1:]\n",
        "    \n",
        "\n",
        "    fig, ax = plt.subplots(1, len(fdata), figsize=(20,6))\n",
        "    for i, d in enumerate(fdata):\n",
        "\n",
        "        U = np.array([[actions[y][0] for y in x] for x in d])\n",
        "        V = np.array([[actions[y][1] for y in x] for x in d])\n",
        "\n",
        "        X = np.arange(0, 5, 1)\n",
        "        Y = np.arange(0, 5, 1)\n",
        "        \n",
        "        q = ax[i].quiver(X, Y, V, U*-1)\n",
        "        ax[i].imshow(d, cmap=plt.cm.Pastel1)\n",
        "        labels = {\n",
        "            'title': '{} Policy'.format(i if len(fdata)-1 > i else 'Optimal'),\n",
        "        }\n",
        "        insert_labels(labels, ax[i])\n",
        "        ax[i].axis('off')\n",
        "\n",
        "    plt.show()\n"
      ],
      "execution_count": 3,
      "outputs": []
    },
    {
      "cell_type": "markdown",
      "metadata": {
        "id": "q-mvVkoGw-jn"
      },
      "source": [
        "## TRANSITION PROBABILITY MATRIX AND OPTIMAL VALUE FUNCTION (b,c)"
      ]
    },
    {
      "cell_type": "markdown",
      "metadata": {
        "id": "FK5eCDslLvGg"
      },
      "source": [
        "We now want to obtain the transition probability matrix and the reward vector for the random uniform policy. We will use the following equations, that appear in the theory material of the course:\n",
        "$$\n",
        "P^\\pi_{ss'}=\\sum_{a\\in\\mathcal A}\\pi(a\\vert s)\\cdot p(s'\\vert s, a),\\quad R^\\pi_s=\\sum_{a\\in\\mathcal A}\\pi(a\\vert s)\\cdot R^a_s.\n",
        "$$\n",
        "As our actions determinate the next state $s'$ uniquely, the term $p(s'\\vert s,a)$ is 1 for the action that can move a player from $s$ to $s'$, which is unique if it exists, and 0 for the rest of actions."
      ]
    },
    {
      "cell_type": "code",
      "metadata": {
        "id": "-bBR8JV6xDs2"
      },
      "source": [
        "grid = Grid()\n",
        "\n",
        "for s in range(1, grid.N_STATES + 1):\n",
        "    for a in range(grid.N_ACTIONS):\n",
        "        \n",
        "        next_state, reward = grid.next_position(s, a)\n",
        "        # 3.TODO: Compute reward vector and transition prob matrix.\n",
        "        grid.TrPrM[s-1, next_state-1] += grid.POLICY[s-1, a] # we are omitting a *1 here\n",
        "        grid.REWARD[s-1] += grid.POLICY[s-1, a]*reward"
      ],
      "execution_count": 4,
      "outputs": []
    },
    {
      "cell_type": "markdown",
      "metadata": {
        "id": "wpLdRQy9NFFQ"
      },
      "source": [
        "The following is a heat map of the transition matrix for the grid MDP."
      ]
    },
    {
      "cell_type": "code",
      "metadata": {
        "id": "NkqFGN78nuEt",
        "colab": {
          "base_uri": "https://localhost:8080/",
          "height": 298
        },
        "outputId": "23adcde0-9b44-42c4-e85d-2485428a5498"
      },
      "source": [
        "# PLOT TRANSITION MATRIX\n",
        "conf = {\n",
        "    'title': 'Transition Probability Matrix',\n",
        "    'xlabel': 'sp state',\n",
        "    'ylabel': 's state'\n",
        "}\n",
        "plot_heatmap(grid.TrPrM, **conf)"
      ],
      "execution_count": 5,
      "outputs": [
        {
          "output_type": "display_data",
          "data": {
            "image/png": "[encoded data removed]",
            "text/plain": [
              "<Figure size 432x288 with 2 Axes>"
            ]
          },
          "metadata": {
            "needs_background": "light"
          }
        }
      ]
    },
    {
      "cell_type": "markdown",
      "metadata": {
        "id": "hF0yBF5tNLpf"
      },
      "source": [
        "We now want to solve the Bellman optimality equation and obtain the value function given the transition probability matrix and a certain discount factor $\\gamma\\in(0,1)$, which is 0.9 in our case. This is solved by:\n",
        "$$\n",
        "\\mathbf v=\\left(\\text{Id}-\\gamma\\cdot P^\\pi\\right)^{-1}R^\\pi.\n",
        "$$"
      ]
    },
    {
      "cell_type": "code",
      "metadata": {
        "id": "UuEZhPOY5JPA",
        "colab": {
          "base_uri": "https://localhost:8080/",
          "height": 281
        },
        "outputId": "81f763e8-07f0-46da-aa46-71288d12c105"
      },
      "source": [
        "# COMPUTE UNIFORM POLICY VALUE FUNCTION AND PLOT IT\n",
        "\n",
        "# 4.TODO: Compute Bellman Equation \n",
        "aux = np.identity(grid.N_STATES) -  grid.GAMMA*grid.TrPrM\n",
        "value_f = np.linalg.inv(aux).dot(grid.REWARD)\n",
        "\n",
        "vf_matrix_exact = np.transpose(np.reshape(value_f, (grid.N_ROWS, grid.N_COLUMNS)))\n",
        "conf = {\n",
        "    'title': 'Uniform Policy Value Function',\n",
        "}\n",
        "plot_heatmap(vf_matrix_exact, **conf)"
      ],
      "execution_count": 6,
      "outputs": [
        {
          "output_type": "display_data",
          "data": {
            "image/png": "[encoded data removed]",
            "text/plain": [
              "<Figure size 432x288 with 2 Axes>"
            ]
          },
          "metadata": {
            "needs_background": "light"
          }
        }
      ]
    },
    {
      "cell_type": "markdown",
      "metadata": {
        "id": "FMo_aXFCss8A"
      },
      "source": [
        "## ITERATIVE POLICY EVALUATION (IPE,d)"
      ]
    },
    {
      "cell_type": "markdown",
      "metadata": {
        "id": "YIS8tfT8OJIR"
      },
      "source": [
        "We now implement the Policy Evaluation procedure, to evaluate an approximation to the value function of a policy $\\pi$."
      ]
    },
    {
      "cell_type": "code",
      "metadata": {
        "id": "FbAph-beswhj"
      },
      "source": [
        "'''\n",
        "In this case we define a function since we will use this algorithm\n",
        "within 'policy iteration' algorithm\n",
        "'''\n",
        "def policy_evaluation(grid):\n",
        "    zeta = grid.ZETA_MAX + 1\n",
        "    iter = 0\n",
        "    v_incr = []\n",
        "\n",
        "    while zeta > grid.ZETA_MAX and iter < grid.ITER_MAX + 1:\n",
        "        \n",
        "        vm_aux = grid.V_FUNCTION.copy()                                 # Store current state-values for later comparison\n",
        "\n",
        "        for s in range(1, grid.N_STATES + 1):                           # Loop over all the states\n",
        "            vs_aux = 0\n",
        "            for a in range(grid.N_ACTIONS):                             # Loop over all actions in each state\n",
        "                next_state, reward = grid.next_position(s, a)           # Compute next_state and reward when taking action a in state s\n",
        "\n",
        "                 # 5.TODO: Compute the update of the state value\n",
        "                vs_aux += grid.POLICY[s-1, a]*(reward + grid.GAMMA*vm_aux[next_state-1])\n",
        "        \n",
        "            grid.V_FUNCTION[s - 1] = vs_aux                             # Update state-value with the result of Bellman Equation\n",
        "        \n",
        "        zeta = np.max(np.abs(grid.V_FUNCTION - vm_aux))                 # Compute the difference between current state-values and previous ones\n",
        "        v_incr.append(zeta)\n",
        "        iter += 1\n",
        "    \n",
        "    return v_incr"
      ],
      "execution_count": 7,
      "outputs": []
    },
    {
      "cell_type": "code",
      "metadata": {
        "id": "ja3u-z02DACE"
      },
      "source": [
        "grid = Grid()\n",
        "v_incr = policy_evaluation(grid)"
      ],
      "execution_count": 8,
      "outputs": []
    },
    {
      "cell_type": "code",
      "metadata": {
        "id": "LbrbgRw_5O8a",
        "colab": {
          "base_uri": "https://localhost:8080/",
          "height": 559
        },
        "outputId": "6edd19fa-2933-42f2-c93e-192ef260cc6e"
      },
      "source": [
        "vf_matrix_approx = np.transpose(np.reshape(grid.V_FUNCTION, (grid.N_ROWS, grid.N_COLUMNS)))\n",
        "\n",
        "conf = {\n",
        "    'title': 'Policy Evaluation Value Function',\n",
        "}\n",
        "plot_heatmap(vf_matrix_approx, **conf)\n",
        "\n",
        "\n",
        "conf= {\n",
        "    'title': 'VF Incremental',\n",
        "    'xlabel': 'Iterations'\n",
        "}\n",
        "plot_deltas(v_incr, **conf)\n"
      ],
      "execution_count": 9,
      "outputs": [
        {
          "output_type": "display_data",
          "data": {
            "image/png": "[encoded data removed]",
            "text/plain": [
              "<Figure size 432x288 with 2 Axes>"
            ]
          },
          "metadata": {
            "needs_background": "light"
          }
        },
        {
          "output_type": "display_data",
          "data": {
            "image/png": "[encoded data removed]",
            "text/plain": [
              "<Figure size 432x288 with 1 Axes>"
            ]
          },
          "metadata": {
            "needs_background": "light"
          }
        }
      ]
    },
    {
      "cell_type": "markdown",
      "metadata": {
        "id": "De2w8SyTObOD"
      },
      "source": [
        "We can see how the resulting approximate value function is very similar to the exact one computed before via matrix inversion. In fact, the error is very low:"
      ]
    },
    {
      "cell_type": "code",
      "metadata": {
        "colab": {
          "base_uri": "https://localhost:8080/"
        },
        "id": "uqYc8nZMOlPP",
        "outputId": "c3edf223-132c-4133-da24-3a690ceddcda"
      },
      "source": [
        "print(np.abs(np.max(vf_matrix_approx-vf_matrix_exact)))"
      ],
      "execution_count": 10,
      "outputs": [
        {
          "output_type": "stream",
          "name": "stdout",
          "text": [
            "0.007230833481413068\n"
          ]
        }
      ]
    },
    {
      "cell_type": "markdown",
      "metadata": {
        "id": "7z4JSTbwsxKe"
      },
      "source": [
        "## POLICY ITERATION  (PI,e)"
      ]
    },
    {
      "cell_type": "markdown",
      "metadata": {
        "id": "B4isnIt7PPHs"
      },
      "source": [
        "Now, we implement Policy Iteration, making use of both policy evaluation and policy improvement:"
      ]
    },
    {
      "cell_type": "code",
      "metadata": {
        "id": "1eFmXBq-JFfo"
      },
      "source": [
        "def policy_improvement(grid):\n",
        "    # First of all, we calculate the action-state value function q_pi\n",
        "    q_pi = np.zeros((grid.N_STATES, grid.N_ACTIONS))\n",
        "    for s in range(1, grid.N_STATES + 1):\n",
        "        for a in range(grid.N_ACTIONS):\n",
        "            next_state, reward = grid.next_position(s, a)\n",
        "            q_pi[s-1, a] = reward + grid.GAMMA*grid.V_FUNCTION[next_state-1]\n",
        "    \n",
        "    # Now, once q_pi has been calculated, we take as the new action the position of the maximum in q_pi\n",
        "    num_diff_actions = 0\n",
        "    # policy_is_stable = True\n",
        "    for s in range(1, grid.N_STATES+1):\n",
        "        old_action = np.argmax(grid.POLICY[s-1])\n",
        "        new_action = np.argmax(q_pi[s-1])\n",
        "\n",
        "        grid.POLICY[s-1] = np.zeros(grid.N_ACTIONS)\n",
        "        grid.POLICY[s-1, new_action] = 1\n",
        "\n",
        "        if old_action != new_action:\n",
        "            # policy_is_stable = False\n",
        "            num_diff_actions += 1\n",
        "    \n",
        "    # return policy_is_stable\n",
        "    return num_diff_actions"
      ],
      "execution_count": 11,
      "outputs": []
    },
    {
      "cell_type": "markdown",
      "metadata": {
        "id": "6fCUwk3rPbA0"
      },
      "source": [
        "We initially set the policy to be a deterministic one, but we set the initial actions from each state at random."
      ]
    },
    {
      "cell_type": "code",
      "metadata": {
        "id": "ojdElUBjs2h8"
      },
      "source": [
        "grid = Grid()\n",
        "\n",
        "iter = 0\n",
        "it_max = 10\n",
        "ac_dif = 1\n",
        "\n",
        "actions_list = []       # Store actions taken in each state for each run. [[a1, ... , a25], ... , [a1, ... , a25]]\n",
        "a_inc = []              # Store number of different actions taken in each run.\n",
        "\n",
        "from random import randint\n",
        "\n",
        "# First of all, we have to initialize the policy as a deterministic policy (randomly)\n",
        "grid.POLICY = np.zeros((grid.N_STATES, grid.N_ACTIONS))\n",
        "for s in range(grid.N_STATES):\n",
        "    random_action = randint(0, grid.N_ACTIONS-1)\n",
        "    grid.POLICY[s, random_action] = 1\n",
        "\n",
        "while ac_dif > 0 and iter < it_max + 1:\n",
        "    ac_dif = 0\n",
        "    actions = []        # Store actions taken in each state in one run. [a1, ..., a25]\n",
        "    for s in range(grid.N_STATES):\n",
        "        actions.append(np.argmax(grid.POLICY[s]))\n",
        "    \n",
        "# 6.TODO: Program Policy Iteration Algorithm (you must make use of policy_evaluation function)\n",
        "\n",
        "    # Now, we evaluate the deterministic policy that we have just initialized\n",
        "    _ = policy_evaluation(grid) # we are not interested in how the convergence works\n",
        "\n",
        "    # Right after that, we have to improve the policy using the policy_improvement function defined above\n",
        "    ac_dif = policy_improvement(grid)\n",
        "    #####\n",
        "\n",
        "    actions_list.append(np.transpose(np.array(actions).reshape(grid.N_ROWS,grid.N_COLUMNS)))\n",
        "    a_inc.append(ac_dif)\n",
        "\n",
        "    iter += 1"
      ],
      "execution_count": 12,
      "outputs": []
    },
    {
      "cell_type": "markdown",
      "metadata": {
        "id": "wqeWne33P_mH"
      },
      "source": [
        "We are using the default values of $\\theta=0.001$ and 100 maximum iterations for policy evaluation, and the results are good:"
      ]
    },
    {
      "cell_type": "code",
      "metadata": {
        "id": "24ylkranLraI",
        "colab": {
          "base_uri": "https://localhost:8080/",
          "height": 559
        },
        "outputId": "e827f8f5-e10e-48f6-eab2-ac813f318882"
      },
      "source": [
        "vf_matrix_PI = np.transpose(np.reshape(grid.V_FUNCTION, (grid.N_ROWS, grid.N_COLUMNS)))\n",
        "\n",
        "conf = {\n",
        "    'title': 'Policy Iteration Value Function',\n",
        "}\n",
        "plot_heatmap(vf_matrix_PI, **conf)\n",
        "\n",
        "\n",
        "conf= {\n",
        "    'title': '# of dif. actions between consecutive policies',\n",
        "    'xlabel': 'Iterations'\n",
        "}\n",
        "plot_deltas(a_inc, **conf)\n",
        "\n"
      ],
      "execution_count": 13,
      "outputs": [
        {
          "output_type": "display_data",
          "data": {
            "image/png": "[encoded data removed]",
            "text/plain": [
              "<Figure size 432x288 with 2 Axes>"
            ]
          },
          "metadata": {
            "needs_background": "light"
          }
        },
        {
          "output_type": "display_data",
          "data": {
            "image/png": "[encoded data removed]",
            "text/plain": [
              "<Figure size 432x288 with 1 Axes>"
            ]
          },
          "metadata": {
            "needs_background": "light"
          }
        }
      ]
    },
    {
      "cell_type": "markdown",
      "metadata": {
        "id": "g35ISPfKQjH-"
      },
      "source": [
        "The value function obtained here is quite different from the one obtained with the exact solution of the Bellman Optimality Equation."
      ]
    },
    {
      "cell_type": "code",
      "metadata": {
        "colab": {
          "base_uri": "https://localhost:8080/"
        },
        "id": "FZvwqLEkQrdU",
        "outputId": "7e1c1576-e336-4011-e60c-8850071415f4"
      },
      "source": [
        "print(np.abs(np.max(vf_matrix_PI - vf_matrix_exact)))"
      ],
      "execution_count": 18,
      "outputs": [
        {
          "output_type": "stream",
          "name": "stdout",
          "text": [
            "19.040575969968863\n"
          ]
        }
      ]
    },
    {
      "cell_type": "markdown",
      "metadata": {
        "id": "DpLEYOrUQzX0"
      },
      "source": [
        "The difference is now significantly bigger than before, when we calculated the value function using policy evaluation. Still, the final result of the resultin policy is correct, as we can see below:"
      ]
    },
    {
      "cell_type": "code",
      "metadata": {
        "id": "IBpxT28fR0eS",
        "colab": {
          "base_uri": "https://localhost:8080/",
          "height": 290
        },
        "outputId": "bf8d21e4-fa82-4b6b-f7a4-f0a88c1ca23a"
      },
      "source": [
        "plot_arrows(actions_list, grid.ACTIONS)"
      ],
      "execution_count": 14,
      "outputs": [
        {
          "output_type": "display_data",
          "data": {
            "image/png": "[encoded data removed]",
            "text/plain": [
              "<Figure size 1440x432 with 4 Axes>"
            ]
          },
          "metadata": {
            "needs_background": "light"
          }
        }
      ]
    },
    {
      "cell_type": "markdown",
      "metadata": {
        "id": "8KKf7jiPs6Ok"
      },
      "source": [
        "## VALUE ITERATION (VI,f)"
      ]
    },
    {
      "cell_type": "code",
      "metadata": {
        "id": "QCNrl1wns3EX"
      },
      "source": [
        "\n",
        "grid = Grid()\n",
        "zeta = grid.ZETA_MAX + 1\n",
        "iter = 0\n",
        "v_incr = []\n",
        "a_inc = []\n",
        "action_taken_before = np.random.randint(0, 4, size=grid.N_STATES) # according to the random uniform policy that Grid() initializes\n",
        "\n",
        "while zeta > grid.ZETA_MAX and iter < grid.ITER_MAX + 1:\n",
        "    ac_dif = 0\n",
        "    vm_aux = grid.V_FUNCTION.copy()\n",
        "\n",
        "    # 7.TODO: Program Value Iteration Algorithm (do NOT make use of policy_evaluation function)\n",
        "    for s in range(1, grid.N_STATES+1):\n",
        "        aux_bellman_optimality_equation = np.zeros(grid.N_ACTIONS)\n",
        "        for a in range(grid.N_ACTIONS):\n",
        "            next_state, r = grid.next_position(s, a)\n",
        "            aux_bellman_optimality_equation[a] = r + grid.GAMMA*vm_aux[next_state-1]\n",
        "        \n",
        "        action_taken = np.argmax(aux_bellman_optimality_equation)\n",
        "        if action_taken != action_taken_before[s-1]:\n",
        "            ac_dif += 1\n",
        "            action_taken_before[s-1] = action_taken\n",
        "            \n",
        "        grid.V_FUNCTION[s-1] = aux_bellman_optimality_equation[action_taken]\n",
        "\n",
        "\n",
        "\n",
        "\n",
        "    a_inc.append(ac_dif)                                # Number of actions taken differently from previous iteration\n",
        "    zeta = np.max(np.abs(grid.V_FUNCTION - vm_aux))     # Compute the difference of the state-values\n",
        "    v_incr.append(zeta)                                 # Store the difference in v_incr list\n",
        "    iter += 1\n",
        "\n",
        "for s in range(grid.N_STATES):\n",
        "    grid.POLICY[s] = np.zeros(grid.N_ACTIONS)\n",
        "    grid.POLICY[s, action_taken_before[s]] = 1"
      ],
      "execution_count": 15,
      "outputs": []
    },
    {
      "cell_type": "code",
      "metadata": {
        "id": "cw9p94h3K1gD",
        "colab": {
          "base_uri": "https://localhost:8080/",
          "height": 837
        },
        "outputId": "40dad040-2402-43b1-f102-334b1b6da1e6"
      },
      "source": [
        "vf_matrix = np.transpose(np.reshape(grid.V_FUNCTION, (grid.N_ROWS, grid.N_COLUMNS)))\n",
        "\n",
        "conf = {\n",
        "    'title': 'Value Iteration Value Function',\n",
        "}\n",
        "plot_heatmap(vf_matrix, **conf)\n",
        "\n",
        "\n",
        "conf= {\n",
        "    'title': '# of dif. actions between consecutive policies',\n",
        "    'xlabel': 'Iterations'\n",
        "}\n",
        "plot_deltas(a_inc, **conf)\n",
        "\n",
        "conf= {\n",
        "    'title': 'VF Incremental',\n",
        "    'xlabel': 'Iterations'\n",
        "}\n",
        "plot_deltas(v_incr, **conf)\n"
      ],
      "execution_count": 16,
      "outputs": [
        {
          "output_type": "display_data",
          "data": {
            "image/png": "[encoded data removed]",
            "text/plain": [
              "<Figure size 432x288 with 2 Axes>"
            ]
          },
          "metadata": {
            "needs_background": "light"
          }
        },
        {
          "output_type": "display_data",
          "data": {
            "image/png": "[encoded data removed]",
            "text/plain": [
              "<Figure size 432x288 with 1 Axes>"
            ]
          },
          "metadata": {
            "needs_background": "light"
          }
        },
        {
          "output_type": "display_data",
          "data": {
            "image/png": "[encoded data removed]",
            "text/plain": [
              "<Figure size 432x288 with 1 Axes>"
            ]
          },
          "metadata": {
            "needs_background": "light"
          }
        }
      ]
    },
    {
      "cell_type": "code",
      "metadata": {
        "id": "p0-i0vkZ5ui2",
        "colab": {
          "base_uri": "https://localhost:8080/",
          "height": 264
        },
        "outputId": "2867390b-99e9-4f6d-d08b-6648985f5061"
      },
      "source": [
        "conf= {\n",
        "    'title': 'Optimal Policy'\n",
        "}\n",
        "\n",
        "actions = [np.argmax(grid.POLICY[s-1]) for s in range(1, grid.N_STATES + 1)]\n",
        "action_arrows = np.transpose(np.array(actions).reshape(grid.N_ROWS,grid.N_COLUMNS))\n",
        "plot_arrow(action_arrows, grid.ACTIONS, **conf)"
      ],
      "execution_count": 17,
      "outputs": [
        {
          "output_type": "display_data",
          "data": {
            "image/png": "[encoded data removed]",
            "text/plain": [
              "<Figure size 432x288 with 1 Axes>"
            ]
          },
          "metadata": {
            "needs_background": "light"
          }
        }
      ]
    }
  ]
}